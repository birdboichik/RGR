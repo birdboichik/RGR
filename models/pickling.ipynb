{
  "cells": [
    {
      "cell_type": "code",
      "execution_count": 2,
      "id": "3506e29e-35eb-4b2a-90b2-227094db330c",
      "metadata": {
        "id": "3506e29e-35eb-4b2a-90b2-227094db330c"
      },
      "outputs": [],
      "source": [
        "import pandas as pd\n",
        "from sklearn.model_selection import train_test_split\n",
        "from sklearn.linear_model import LogisticRegression\n",
        "from sklearn.ensemble import BaggingClassifier, StackingClassifier, RandomForestClassifier\n",
        "from sklearn.svm import SVC\n",
        "from sklearn import svm\n",
        "from scipy.cluster.hierarchy import dendrogram, linkage, fcluster\n",
        "from sklearn.cluster import KMeans\n",
        "from tensorflow import keras\n",
        "from keras.models import Sequential\n",
        "from keras.layers import Dense, Dropout\n",
        "import pickle\n",
        "from sklearn.neighbors import KNeighborsClassifier\n",
        "from sklearn.ensemble import GradientBoostingClassifier\n",
        "from sklearn.metrics import f1_score, classification_report, accuracy_score, silhouette_score, adjusted_rand_score, normalized_mutual_info_score, rand_score, make_scorer, calinski_harabasz_score\n",
        "import pickle"
      ]
    },
    {
      "cell_type": "code",
      "execution_count": null,
      "id": "16b527fb-dcc1-495e-b04e-ad72f2fe0771",
      "metadata": {
        "id": "16b527fb-dcc1-495e-b04e-ad72f2fe0771"
      },
      "outputs": [],
      "source": [
        "data = pd.read_csv(\"D:\\RGR\\rgr\\pages\\card_transdata.csv\")"
      ]
    },
    {
      "cell_type": "code",
      "execution_count": null,
      "id": "EQiMJIwBj6Wp",
      "metadata": {
        "id": "EQiMJIwBj6Wp"
      },
      "outputs": [],
      "source": [
        "data = data[:5000]"
      ]
    },
    {
      "cell_type": "code",
      "execution_count": null,
      "id": "97a764d2",
      "metadata": {},
      "outputs": [
        {
          "ename": "NameError",
          "evalue": "name 'data' is not defined",
          "output_type": "error",
          "traceback": [
            "\u001b[1;31m---------------------------------------------------------------------------\u001b[0m",
            "\u001b[1;31mNameError\u001b[0m                                 Traceback (most recent call last)",
            "Cell \u001b[1;32mIn[1], line 1\u001b[0m\n\u001b[1;32m----> 1\u001b[0m \u001b[43mdata\u001b[49m\u001b[38;5;241m.\u001b[39mto_csv(\u001b[38;5;124m'\u001b[39m\u001b[38;5;124mcard_transdata_upd.csv\u001b[39m\u001b[38;5;124m'\u001b[39m, encoding\u001b[38;5;241m=\u001b[39m\u001b[38;5;124m'\u001b[39m\u001b[38;5;124mutf-8   \u001b[39m\u001b[38;5;124m'\u001b[39m)\n",
            "\u001b[1;31mNameError\u001b[0m: name 'data' is not defined"
          ]
        }
      ],
      "source": [
        "data.to_csv('card_transdata_upd.csv', encoding='utf-8   ')"
      ]
    },
    {
      "cell_type": "code",
      "execution_count": null,
      "id": "jgn2CnOgubAq",
      "metadata": {
        "colab": {
          "base_uri": "https://localhost:8080/"
        },
        "id": "jgn2CnOgubAq",
        "outputId": "8e9d99e4-7966-43e2-9394-7d57529d8279"
      },
      "outputs": [
        {
          "name": "stdout",
          "output_type": "stream",
          "text": [
            "<class 'pandas.core.frame.DataFrame'>\n",
            "RangeIndex: 5000 entries, 0 to 4999\n",
            "Data columns (total 9 columns):\n",
            " #   Column                          Non-Null Count  Dtype  \n",
            "---  ------                          --------------  -----  \n",
            " 0   Unnamed: 0                      5000 non-null   int64  \n",
            " 1   distance_from_home              5000 non-null   float64\n",
            " 2   distance_from_last_transaction  5000 non-null   float64\n",
            " 3   ratio_to_median_purchase_price  5000 non-null   float64\n",
            " 4   repeat_retailer                 5000 non-null   bool   \n",
            " 5   used_chip                       5000 non-null   bool   \n",
            " 6   used_pin_number                 5000 non-null   bool   \n",
            " 7   online_order                    5000 non-null   bool   \n",
            " 8   fraud                           5000 non-null   bool   \n",
            "dtypes: bool(5), float64(3), int64(1)\n",
            "memory usage: 180.8 KB\n"
          ]
        }
      ],
      "source": [
        "data.info()"
      ]
    },
    {
      "cell_type": "code",
      "execution_count": null,
      "id": "1vslT_WVvacX",
      "metadata": {
        "colab": {
          "base_uri": "https://localhost:8080/",
          "height": 424
        },
        "id": "1vslT_WVvacX",
        "outputId": "28bfa009-29c2-4e47-e8e1-1b7e8304062d"
      },
      "outputs": [
        {
          "data": {
            "text/html": [
              "<div>\n",
              "<style scoped>\n",
              "    .dataframe tbody tr th:only-of-type {\n",
              "        vertical-align: middle;\n",
              "    }\n",
              "\n",
              "    .dataframe tbody tr th {\n",
              "        vertical-align: top;\n",
              "    }\n",
              "\n",
              "    .dataframe thead th {\n",
              "        text-align: right;\n",
              "    }\n",
              "</style>\n",
              "<table border=\"1\" class=\"dataframe\">\n",
              "  <thead>\n",
              "    <tr style=\"text-align: right;\">\n",
              "      <th></th>\n",
              "      <th>Unnamed: 0</th>\n",
              "      <th>distance_from_home</th>\n",
              "      <th>distance_from_last_transaction</th>\n",
              "      <th>ratio_to_median_purchase_price</th>\n",
              "      <th>repeat_retailer</th>\n",
              "      <th>used_chip</th>\n",
              "      <th>used_pin_number</th>\n",
              "      <th>online_order</th>\n",
              "      <th>fraud</th>\n",
              "    </tr>\n",
              "  </thead>\n",
              "  <tbody>\n",
              "    <tr>\n",
              "      <th>0</th>\n",
              "      <td>0</td>\n",
              "      <td>57.877857</td>\n",
              "      <td>0.311140</td>\n",
              "      <td>1.945940</td>\n",
              "      <td>True</td>\n",
              "      <td>True</td>\n",
              "      <td>False</td>\n",
              "      <td>False</td>\n",
              "      <td>False</td>\n",
              "    </tr>\n",
              "    <tr>\n",
              "      <th>1</th>\n",
              "      <td>1</td>\n",
              "      <td>10.829943</td>\n",
              "      <td>0.175592</td>\n",
              "      <td>1.294219</td>\n",
              "      <td>True</td>\n",
              "      <td>False</td>\n",
              "      <td>False</td>\n",
              "      <td>False</td>\n",
              "      <td>False</td>\n",
              "    </tr>\n",
              "    <tr>\n",
              "      <th>2</th>\n",
              "      <td>2</td>\n",
              "      <td>5.091079</td>\n",
              "      <td>0.805153</td>\n",
              "      <td>0.427715</td>\n",
              "      <td>True</td>\n",
              "      <td>False</td>\n",
              "      <td>False</td>\n",
              "      <td>True</td>\n",
              "      <td>False</td>\n",
              "    </tr>\n",
              "    <tr>\n",
              "      <th>3</th>\n",
              "      <td>3</td>\n",
              "      <td>2.247564</td>\n",
              "      <td>5.600044</td>\n",
              "      <td>0.362663</td>\n",
              "      <td>True</td>\n",
              "      <td>True</td>\n",
              "      <td>False</td>\n",
              "      <td>True</td>\n",
              "      <td>False</td>\n",
              "    </tr>\n",
              "    <tr>\n",
              "      <th>4</th>\n",
              "      <td>4</td>\n",
              "      <td>44.190936</td>\n",
              "      <td>0.566486</td>\n",
              "      <td>2.222767</td>\n",
              "      <td>True</td>\n",
              "      <td>True</td>\n",
              "      <td>False</td>\n",
              "      <td>True</td>\n",
              "      <td>False</td>\n",
              "    </tr>\n",
              "    <tr>\n",
              "      <th>...</th>\n",
              "      <td>...</td>\n",
              "      <td>...</td>\n",
              "      <td>...</td>\n",
              "      <td>...</td>\n",
              "      <td>...</td>\n",
              "      <td>...</td>\n",
              "      <td>...</td>\n",
              "      <td>...</td>\n",
              "      <td>...</td>\n",
              "    </tr>\n",
              "    <tr>\n",
              "      <th>4995</th>\n",
              "      <td>4995</td>\n",
              "      <td>10.285723</td>\n",
              "      <td>1.559981</td>\n",
              "      <td>0.674788</td>\n",
              "      <td>True</td>\n",
              "      <td>True</td>\n",
              "      <td>False</td>\n",
              "      <td>False</td>\n",
              "      <td>False</td>\n",
              "    </tr>\n",
              "    <tr>\n",
              "      <th>4996</th>\n",
              "      <td>4996</td>\n",
              "      <td>8.599866</td>\n",
              "      <td>0.113014</td>\n",
              "      <td>1.739850</td>\n",
              "      <td>True</td>\n",
              "      <td>False</td>\n",
              "      <td>False</td>\n",
              "      <td>True</td>\n",
              "      <td>False</td>\n",
              "    </tr>\n",
              "    <tr>\n",
              "      <th>4997</th>\n",
              "      <td>4997</td>\n",
              "      <td>3.420348</td>\n",
              "      <td>0.117740</td>\n",
              "      <td>0.153573</td>\n",
              "      <td>True</td>\n",
              "      <td>True</td>\n",
              "      <td>False</td>\n",
              "      <td>False</td>\n",
              "      <td>False</td>\n",
              "    </tr>\n",
              "    <tr>\n",
              "      <th>4998</th>\n",
              "      <td>4998</td>\n",
              "      <td>2.100580</td>\n",
              "      <td>0.275625</td>\n",
              "      <td>19.331504</td>\n",
              "      <td>True</td>\n",
              "      <td>False</td>\n",
              "      <td>False</td>\n",
              "      <td>True</td>\n",
              "      <td>True</td>\n",
              "    </tr>\n",
              "    <tr>\n",
              "      <th>4999</th>\n",
              "      <td>4999</td>\n",
              "      <td>1.993823</td>\n",
              "      <td>0.250462</td>\n",
              "      <td>0.796425</td>\n",
              "      <td>True</td>\n",
              "      <td>True</td>\n",
              "      <td>False</td>\n",
              "      <td>False</td>\n",
              "      <td>False</td>\n",
              "    </tr>\n",
              "  </tbody>\n",
              "</table>\n",
              "<p>5000 rows × 9 columns</p>\n",
              "</div>"
            ],
            "text/plain": [
              "      Unnamed: 0  distance_from_home  distance_from_last_transaction  \\\n",
              "0              0           57.877857                        0.311140   \n",
              "1              1           10.829943                        0.175592   \n",
              "2              2            5.091079                        0.805153   \n",
              "3              3            2.247564                        5.600044   \n",
              "4              4           44.190936                        0.566486   \n",
              "...          ...                 ...                             ...   \n",
              "4995        4995           10.285723                        1.559981   \n",
              "4996        4996            8.599866                        0.113014   \n",
              "4997        4997            3.420348                        0.117740   \n",
              "4998        4998            2.100580                        0.275625   \n",
              "4999        4999            1.993823                        0.250462   \n",
              "\n",
              "      ratio_to_median_purchase_price  repeat_retailer  used_chip  \\\n",
              "0                           1.945940             True       True   \n",
              "1                           1.294219             True      False   \n",
              "2                           0.427715             True      False   \n",
              "3                           0.362663             True       True   \n",
              "4                           2.222767             True       True   \n",
              "...                              ...              ...        ...   \n",
              "4995                        0.674788             True       True   \n",
              "4996                        1.739850             True      False   \n",
              "4997                        0.153573             True       True   \n",
              "4998                       19.331504             True      False   \n",
              "4999                        0.796425             True       True   \n",
              "\n",
              "      used_pin_number  online_order  fraud  \n",
              "0               False         False  False  \n",
              "1               False         False  False  \n",
              "2               False          True  False  \n",
              "3               False          True  False  \n",
              "4               False          True  False  \n",
              "...               ...           ...    ...  \n",
              "4995            False         False  False  \n",
              "4996            False          True  False  \n",
              "4997            False         False  False  \n",
              "4998            False          True   True  \n",
              "4999            False         False  False  \n",
              "\n",
              "[5000 rows x 9 columns]"
            ]
          },
          "execution_count": 14,
          "metadata": {},
          "output_type": "execute_result"
        }
      ],
      "source": [
        "data"
      ]
    },
    {
      "cell_type": "code",
      "execution_count": null,
      "id": "88de1bec-28e2-43a6-b118-8514838340fe",
      "metadata": {
        "id": "88de1bec-28e2-43a6-b118-8514838340fe"
      },
      "outputs": [],
      "source": [
        "data = data.drop(columns=['Unnamed: 0'])\n"
      ]
    },
    {
      "cell_type": "code",
      "execution_count": null,
      "id": "2f959a08-c009-4b22-befd-e84c24309fac",
      "metadata": {
        "id": "2f959a08-c009-4b22-befd-e84c24309fac"
      },
      "outputs": [],
      "source": [
        "y = data[\"fraud\"]\n",
        "X = data.drop([\"fraud\"], axis=1)"
      ]
    },
    {
      "cell_type": "code",
      "execution_count": null,
      "id": "877b7c4c-b3b6-4097-8b1f-9261e268d690",
      "metadata": {
        "id": "877b7c4c-b3b6-4097-8b1f-9261e268d690"
      },
      "outputs": [],
      "source": [
        "X_train, X_test, y_train, y_test = train_test_split(X, y, test_size=0.2, random_state=17)"
      ]
    },
    {
      "cell_type": "code",
      "execution_count": null,
      "id": "f5fe38e2-1aa0-4ffc-9726-9d29b71ead43",
      "metadata": {
        "colab": {
          "base_uri": "https://localhost:8080/",
          "height": 75
        },
        "id": "f5fe38e2-1aa0-4ffc-9726-9d29b71ead43",
        "outputId": "689ff5ed-ccf6-418c-9539-9999484501b8"
      },
      "outputs": [
        {
          "data": {
            "text/html": [
              "<style>#sk-container-id-1 {color: black;}#sk-container-id-1 pre{padding: 0;}#sk-container-id-1 div.sk-toggleable {background-color: white;}#sk-container-id-1 label.sk-toggleable__label {cursor: pointer;display: block;width: 100%;margin-bottom: 0;padding: 0.3em;box-sizing: border-box;text-align: center;}#sk-container-id-1 label.sk-toggleable__label-arrow:before {content: \"▸\";float: left;margin-right: 0.25em;color: #696969;}#sk-container-id-1 label.sk-toggleable__label-arrow:hover:before {color: black;}#sk-container-id-1 div.sk-estimator:hover label.sk-toggleable__label-arrow:before {color: black;}#sk-container-id-1 div.sk-toggleable__content {max-height: 0;max-width: 0;overflow: hidden;text-align: left;background-color: #f0f8ff;}#sk-container-id-1 div.sk-toggleable__content pre {margin: 0.2em;color: black;border-radius: 0.25em;background-color: #f0f8ff;}#sk-container-id-1 input.sk-toggleable__control:checked~div.sk-toggleable__content {max-height: 200px;max-width: 100%;overflow: auto;}#sk-container-id-1 input.sk-toggleable__control:checked~label.sk-toggleable__label-arrow:before {content: \"▾\";}#sk-container-id-1 div.sk-estimator input.sk-toggleable__control:checked~label.sk-toggleable__label {background-color: #d4ebff;}#sk-container-id-1 div.sk-label input.sk-toggleable__control:checked~label.sk-toggleable__label {background-color: #d4ebff;}#sk-container-id-1 input.sk-hidden--visually {border: 0;clip: rect(1px 1px 1px 1px);clip: rect(1px, 1px, 1px, 1px);height: 1px;margin: -1px;overflow: hidden;padding: 0;position: absolute;width: 1px;}#sk-container-id-1 div.sk-estimator {font-family: monospace;background-color: #f0f8ff;border: 1px dotted black;border-radius: 0.25em;box-sizing: border-box;margin-bottom: 0.5em;}#sk-container-id-1 div.sk-estimator:hover {background-color: #d4ebff;}#sk-container-id-1 div.sk-parallel-item::after {content: \"\";width: 100%;border-bottom: 1px solid gray;flex-grow: 1;}#sk-container-id-1 div.sk-label:hover label.sk-toggleable__label {background-color: #d4ebff;}#sk-container-id-1 div.sk-serial::before {content: \"\";position: absolute;border-left: 1px solid gray;box-sizing: border-box;top: 0;bottom: 0;left: 50%;z-index: 0;}#sk-container-id-1 div.sk-serial {display: flex;flex-direction: column;align-items: center;background-color: white;padding-right: 0.2em;padding-left: 0.2em;position: relative;}#sk-container-id-1 div.sk-item {position: relative;z-index: 1;}#sk-container-id-1 div.sk-parallel {display: flex;align-items: stretch;justify-content: center;background-color: white;position: relative;}#sk-container-id-1 div.sk-item::before, #sk-container-id-1 div.sk-parallel-item::before {content: \"\";position: absolute;border-left: 1px solid gray;box-sizing: border-box;top: 0;bottom: 0;left: 50%;z-index: -1;}#sk-container-id-1 div.sk-parallel-item {display: flex;flex-direction: column;z-index: 1;position: relative;background-color: white;}#sk-container-id-1 div.sk-parallel-item:first-child::after {align-self: flex-end;width: 50%;}#sk-container-id-1 div.sk-parallel-item:last-child::after {align-self: flex-start;width: 50%;}#sk-container-id-1 div.sk-parallel-item:only-child::after {width: 0;}#sk-container-id-1 div.sk-dashed-wrapped {border: 1px dashed gray;margin: 0 0.4em 0.5em 0.4em;box-sizing: border-box;padding-bottom: 0.4em;background-color: white;}#sk-container-id-1 div.sk-label label {font-family: monospace;font-weight: bold;display: inline-block;line-height: 1.2em;}#sk-container-id-1 div.sk-label-container {text-align: center;}#sk-container-id-1 div.sk-container {/* jupyter's `normalize.less` sets `[hidden] { display: none; }` but bootstrap.min.css set `[hidden] { display: none !important; }` so we also need the `!important` here to be able to override the default hidden behavior on the sphinx rendered scikit-learn.org. See: https://github.com/scikit-learn/scikit-learn/issues/21755 */display: inline-block !important;position: relative;}#sk-container-id-1 div.sk-text-repr-fallback {display: none;}</style><div id=\"sk-container-id-1\" class=\"sk-top-container\"><div class=\"sk-text-repr-fallback\"><pre>SVC(kernel=&#x27;linear&#x27;)</pre><b>In a Jupyter environment, please rerun this cell to show the HTML representation or trust the notebook. <br />On GitHub, the HTML representation is unable to render, please try loading this page with nbviewer.org.</b></div><div class=\"sk-container\" hidden><div class=\"sk-item\"><div class=\"sk-estimator sk-toggleable\"><input class=\"sk-toggleable__control sk-hidden--visually\" id=\"sk-estimator-id-1\" type=\"checkbox\" checked><label for=\"sk-estimator-id-1\" class=\"sk-toggleable__label sk-toggleable__label-arrow\">SVC</label><div class=\"sk-toggleable__content\"><pre>SVC(kernel=&#x27;linear&#x27;)</pre></div></div></div></div></div>"
            ],
            "text/plain": [
              "SVC(kernel='linear')"
            ]
          },
          "execution_count": 18,
          "metadata": {},
          "output_type": "execute_result"
        }
      ],
      "source": [
        "model1 = svm.SVC(kernel='linear')  # Линейное ядро\n",
        "model1.fit(X_train, y_train)"
      ]
    },
    {
      "cell_type": "code",
      "execution_count": null,
      "id": "7a2d459f-d2cb-403d-8355-3b9ca8b8cf11",
      "metadata": {
        "id": "7a2d459f-d2cb-403d-8355-3b9ca8b8cf11"
      },
      "outputs": [],
      "source": [
        "with open('SVM.pkl', 'wb') as pickle_out:\n",
        "    pickle.dump(model1, pickle_out)"
      ]
    },
    {
      "cell_type": "code",
      "execution_count": null,
      "id": "75c9c5f0",
      "metadata": {
        "id": "75c9c5f0"
      },
      "outputs": [],
      "source": [
        "with open('SVM.pkl', 'rb') as pickle_in:\n",
        "    unpickled_list = pickle.load(pickle_in)"
      ]
    },
    {
      "cell_type": "code",
      "execution_count": null,
      "id": "0ef67095-995e-4b33-9943-2f6749f4ce88",
      "metadata": {
        "colab": {
          "base_uri": "https://localhost:8080/",
          "height": 75
        },
        "id": "0ef67095-995e-4b33-9943-2f6749f4ce88",
        "outputId": "8656bc2f-9f0a-4006-8158-0124eb27d60e"
      },
      "outputs": [
        {
          "data": {
            "text/html": [
              "<style>#sk-container-id-2 {color: black;}#sk-container-id-2 pre{padding: 0;}#sk-container-id-2 div.sk-toggleable {background-color: white;}#sk-container-id-2 label.sk-toggleable__label {cursor: pointer;display: block;width: 100%;margin-bottom: 0;padding: 0.3em;box-sizing: border-box;text-align: center;}#sk-container-id-2 label.sk-toggleable__label-arrow:before {content: \"▸\";float: left;margin-right: 0.25em;color: #696969;}#sk-container-id-2 label.sk-toggleable__label-arrow:hover:before {color: black;}#sk-container-id-2 div.sk-estimator:hover label.sk-toggleable__label-arrow:before {color: black;}#sk-container-id-2 div.sk-toggleable__content {max-height: 0;max-width: 0;overflow: hidden;text-align: left;background-color: #f0f8ff;}#sk-container-id-2 div.sk-toggleable__content pre {margin: 0.2em;color: black;border-radius: 0.25em;background-color: #f0f8ff;}#sk-container-id-2 input.sk-toggleable__control:checked~div.sk-toggleable__content {max-height: 200px;max-width: 100%;overflow: auto;}#sk-container-id-2 input.sk-toggleable__control:checked~label.sk-toggleable__label-arrow:before {content: \"▾\";}#sk-container-id-2 div.sk-estimator input.sk-toggleable__control:checked~label.sk-toggleable__label {background-color: #d4ebff;}#sk-container-id-2 div.sk-label input.sk-toggleable__control:checked~label.sk-toggleable__label {background-color: #d4ebff;}#sk-container-id-2 input.sk-hidden--visually {border: 0;clip: rect(1px 1px 1px 1px);clip: rect(1px, 1px, 1px, 1px);height: 1px;margin: -1px;overflow: hidden;padding: 0;position: absolute;width: 1px;}#sk-container-id-2 div.sk-estimator {font-family: monospace;background-color: #f0f8ff;border: 1px dotted black;border-radius: 0.25em;box-sizing: border-box;margin-bottom: 0.5em;}#sk-container-id-2 div.sk-estimator:hover {background-color: #d4ebff;}#sk-container-id-2 div.sk-parallel-item::after {content: \"\";width: 100%;border-bottom: 1px solid gray;flex-grow: 1;}#sk-container-id-2 div.sk-label:hover label.sk-toggleable__label {background-color: #d4ebff;}#sk-container-id-2 div.sk-serial::before {content: \"\";position: absolute;border-left: 1px solid gray;box-sizing: border-box;top: 0;bottom: 0;left: 50%;z-index: 0;}#sk-container-id-2 div.sk-serial {display: flex;flex-direction: column;align-items: center;background-color: white;padding-right: 0.2em;padding-left: 0.2em;position: relative;}#sk-container-id-2 div.sk-item {position: relative;z-index: 1;}#sk-container-id-2 div.sk-parallel {display: flex;align-items: stretch;justify-content: center;background-color: white;position: relative;}#sk-container-id-2 div.sk-item::before, #sk-container-id-2 div.sk-parallel-item::before {content: \"\";position: absolute;border-left: 1px solid gray;box-sizing: border-box;top: 0;bottom: 0;left: 50%;z-index: -1;}#sk-container-id-2 div.sk-parallel-item {display: flex;flex-direction: column;z-index: 1;position: relative;background-color: white;}#sk-container-id-2 div.sk-parallel-item:first-child::after {align-self: flex-end;width: 50%;}#sk-container-id-2 div.sk-parallel-item:last-child::after {align-self: flex-start;width: 50%;}#sk-container-id-2 div.sk-parallel-item:only-child::after {width: 0;}#sk-container-id-2 div.sk-dashed-wrapped {border: 1px dashed gray;margin: 0 0.4em 0.5em 0.4em;box-sizing: border-box;padding-bottom: 0.4em;background-color: white;}#sk-container-id-2 div.sk-label label {font-family: monospace;font-weight: bold;display: inline-block;line-height: 1.2em;}#sk-container-id-2 div.sk-label-container {text-align: center;}#sk-container-id-2 div.sk-container {/* jupyter's `normalize.less` sets `[hidden] { display: none; }` but bootstrap.min.css set `[hidden] { display: none !important; }` so we also need the `!important` here to be able to override the default hidden behavior on the sphinx rendered scikit-learn.org. See: https://github.com/scikit-learn/scikit-learn/issues/21755 */display: inline-block !important;position: relative;}#sk-container-id-2 div.sk-text-repr-fallback {display: none;}</style><div id=\"sk-container-id-2\" class=\"sk-top-container\"><div class=\"sk-text-repr-fallback\"><pre>KMeans(n_clusters=3, n_init=&#x27;auto&#x27;, random_state=42)</pre><b>In a Jupyter environment, please rerun this cell to show the HTML representation or trust the notebook. <br />On GitHub, the HTML representation is unable to render, please try loading this page with nbviewer.org.</b></div><div class=\"sk-container\" hidden><div class=\"sk-item\"><div class=\"sk-estimator sk-toggleable\"><input class=\"sk-toggleable__control sk-hidden--visually\" id=\"sk-estimator-id-2\" type=\"checkbox\" checked><label for=\"sk-estimator-id-2\" class=\"sk-toggleable__label sk-toggleable__label-arrow\">KMeans</label><div class=\"sk-toggleable__content\"><pre>KMeans(n_clusters=3, n_init=&#x27;auto&#x27;, random_state=42)</pre></div></div></div></div></div>"
            ],
            "text/plain": [
              "KMeans(n_clusters=3, n_init='auto', random_state=42)"
            ]
          },
          "execution_count": 21,
          "metadata": {},
          "output_type": "execute_result"
        }
      ],
      "source": [
        "model2 = KMeans(n_clusters=3, random_state=42, n_init='auto')\n",
        "model2.fit(X_train)"
      ]
    },
    {
      "cell_type": "code",
      "execution_count": null,
      "id": "9a14bee4",
      "metadata": {
        "id": "9a14bee4"
      },
      "outputs": [],
      "source": [
        "with open('kmeans.pkl', 'wb') as pickle_out:\n",
        "    pickle.dump(model2, pickle_out)"
      ]
    },
    {
      "cell_type": "code",
      "execution_count": null,
      "id": "92a26236-dbeb-4682-9389-c3ffcbb17073",
      "metadata": {
        "colab": {
          "base_uri": "https://localhost:8080/",
          "height": 75
        },
        "id": "92a26236-dbeb-4682-9389-c3ffcbb17073",
        "outputId": "dd6394a9-9f2e-4565-eb8f-72e0144f6502"
      },
      "outputs": [
        {
          "data": {
            "text/html": [
              "<style>#sk-container-id-3 {color: black;}#sk-container-id-3 pre{padding: 0;}#sk-container-id-3 div.sk-toggleable {background-color: white;}#sk-container-id-3 label.sk-toggleable__label {cursor: pointer;display: block;width: 100%;margin-bottom: 0;padding: 0.3em;box-sizing: border-box;text-align: center;}#sk-container-id-3 label.sk-toggleable__label-arrow:before {content: \"▸\";float: left;margin-right: 0.25em;color: #696969;}#sk-container-id-3 label.sk-toggleable__label-arrow:hover:before {color: black;}#sk-container-id-3 div.sk-estimator:hover label.sk-toggleable__label-arrow:before {color: black;}#sk-container-id-3 div.sk-toggleable__content {max-height: 0;max-width: 0;overflow: hidden;text-align: left;background-color: #f0f8ff;}#sk-container-id-3 div.sk-toggleable__content pre {margin: 0.2em;color: black;border-radius: 0.25em;background-color: #f0f8ff;}#sk-container-id-3 input.sk-toggleable__control:checked~div.sk-toggleable__content {max-height: 200px;max-width: 100%;overflow: auto;}#sk-container-id-3 input.sk-toggleable__control:checked~label.sk-toggleable__label-arrow:before {content: \"▾\";}#sk-container-id-3 div.sk-estimator input.sk-toggleable__control:checked~label.sk-toggleable__label {background-color: #d4ebff;}#sk-container-id-3 div.sk-label input.sk-toggleable__control:checked~label.sk-toggleable__label {background-color: #d4ebff;}#sk-container-id-3 input.sk-hidden--visually {border: 0;clip: rect(1px 1px 1px 1px);clip: rect(1px, 1px, 1px, 1px);height: 1px;margin: -1px;overflow: hidden;padding: 0;position: absolute;width: 1px;}#sk-container-id-3 div.sk-estimator {font-family: monospace;background-color: #f0f8ff;border: 1px dotted black;border-radius: 0.25em;box-sizing: border-box;margin-bottom: 0.5em;}#sk-container-id-3 div.sk-estimator:hover {background-color: #d4ebff;}#sk-container-id-3 div.sk-parallel-item::after {content: \"\";width: 100%;border-bottom: 1px solid gray;flex-grow: 1;}#sk-container-id-3 div.sk-label:hover label.sk-toggleable__label {background-color: #d4ebff;}#sk-container-id-3 div.sk-serial::before {content: \"\";position: absolute;border-left: 1px solid gray;box-sizing: border-box;top: 0;bottom: 0;left: 50%;z-index: 0;}#sk-container-id-3 div.sk-serial {display: flex;flex-direction: column;align-items: center;background-color: white;padding-right: 0.2em;padding-left: 0.2em;position: relative;}#sk-container-id-3 div.sk-item {position: relative;z-index: 1;}#sk-container-id-3 div.sk-parallel {display: flex;align-items: stretch;justify-content: center;background-color: white;position: relative;}#sk-container-id-3 div.sk-item::before, #sk-container-id-3 div.sk-parallel-item::before {content: \"\";position: absolute;border-left: 1px solid gray;box-sizing: border-box;top: 0;bottom: 0;left: 50%;z-index: -1;}#sk-container-id-3 div.sk-parallel-item {display: flex;flex-direction: column;z-index: 1;position: relative;background-color: white;}#sk-container-id-3 div.sk-parallel-item:first-child::after {align-self: flex-end;width: 50%;}#sk-container-id-3 div.sk-parallel-item:last-child::after {align-self: flex-start;width: 50%;}#sk-container-id-3 div.sk-parallel-item:only-child::after {width: 0;}#sk-container-id-3 div.sk-dashed-wrapped {border: 1px dashed gray;margin: 0 0.4em 0.5em 0.4em;box-sizing: border-box;padding-bottom: 0.4em;background-color: white;}#sk-container-id-3 div.sk-label label {font-family: monospace;font-weight: bold;display: inline-block;line-height: 1.2em;}#sk-container-id-3 div.sk-label-container {text-align: center;}#sk-container-id-3 div.sk-container {/* jupyter's `normalize.less` sets `[hidden] { display: none; }` but bootstrap.min.css set `[hidden] { display: none !important; }` so we also need the `!important` here to be able to override the default hidden behavior on the sphinx rendered scikit-learn.org. See: https://github.com/scikit-learn/scikit-learn/issues/21755 */display: inline-block !important;position: relative;}#sk-container-id-3 div.sk-text-repr-fallback {display: none;}</style><div id=\"sk-container-id-3\" class=\"sk-top-container\"><div class=\"sk-text-repr-fallback\"><pre>GradientBoostingClassifier(random_state=42)</pre><b>In a Jupyter environment, please rerun this cell to show the HTML representation or trust the notebook. <br />On GitHub, the HTML representation is unable to render, please try loading this page with nbviewer.org.</b></div><div class=\"sk-container\" hidden><div class=\"sk-item\"><div class=\"sk-estimator sk-toggleable\"><input class=\"sk-toggleable__control sk-hidden--visually\" id=\"sk-estimator-id-3\" type=\"checkbox\" checked><label for=\"sk-estimator-id-3\" class=\"sk-toggleable__label sk-toggleable__label-arrow\">GradientBoostingClassifier</label><div class=\"sk-toggleable__content\"><pre>GradientBoostingClassifier(random_state=42)</pre></div></div></div></div></div>"
            ],
            "text/plain": [
              "GradientBoostingClassifier(random_state=42)"
            ]
          },
          "execution_count": 23,
          "metadata": {},
          "output_type": "execute_result"
        }
      ],
      "source": [
        "model3 = GradientBoostingClassifier(n_estimators=100, learning_rate=0.1, max_depth=3, random_state=42)\n",
        "\n",
        "model3.fit(X_train, y_train)\n"
      ]
    },
    {
      "cell_type": "code",
      "execution_count": null,
      "id": "cf1a5825",
      "metadata": {
        "id": "cf1a5825"
      },
      "outputs": [],
      "source": [
        "with open('GradientBoosting.pkl', 'wb') as pickle_out:\n",
        "    pickle.dump(model3, pickle_out)"
      ]
    },
    {
      "cell_type": "code",
      "execution_count": null,
      "id": "ef871f05-ecc9-4809-ba1c-d0df5077f2a0",
      "metadata": {
        "colab": {
          "base_uri": "https://localhost:8080/",
          "height": 75
        },
        "id": "ef871f05-ecc9-4809-ba1c-d0df5077f2a0",
        "outputId": "ae4f1cdd-7689-4d94-872d-b7ea7d254988"
      },
      "outputs": [
        {
          "data": {
            "text/html": [
              "<style>#sk-container-id-4 {color: black;}#sk-container-id-4 pre{padding: 0;}#sk-container-id-4 div.sk-toggleable {background-color: white;}#sk-container-id-4 label.sk-toggleable__label {cursor: pointer;display: block;width: 100%;margin-bottom: 0;padding: 0.3em;box-sizing: border-box;text-align: center;}#sk-container-id-4 label.sk-toggleable__label-arrow:before {content: \"▸\";float: left;margin-right: 0.25em;color: #696969;}#sk-container-id-4 label.sk-toggleable__label-arrow:hover:before {color: black;}#sk-container-id-4 div.sk-estimator:hover label.sk-toggleable__label-arrow:before {color: black;}#sk-container-id-4 div.sk-toggleable__content {max-height: 0;max-width: 0;overflow: hidden;text-align: left;background-color: #f0f8ff;}#sk-container-id-4 div.sk-toggleable__content pre {margin: 0.2em;color: black;border-radius: 0.25em;background-color: #f0f8ff;}#sk-container-id-4 input.sk-toggleable__control:checked~div.sk-toggleable__content {max-height: 200px;max-width: 100%;overflow: auto;}#sk-container-id-4 input.sk-toggleable__control:checked~label.sk-toggleable__label-arrow:before {content: \"▾\";}#sk-container-id-4 div.sk-estimator input.sk-toggleable__control:checked~label.sk-toggleable__label {background-color: #d4ebff;}#sk-container-id-4 div.sk-label input.sk-toggleable__control:checked~label.sk-toggleable__label {background-color: #d4ebff;}#sk-container-id-4 input.sk-hidden--visually {border: 0;clip: rect(1px 1px 1px 1px);clip: rect(1px, 1px, 1px, 1px);height: 1px;margin: -1px;overflow: hidden;padding: 0;position: absolute;width: 1px;}#sk-container-id-4 div.sk-estimator {font-family: monospace;background-color: #f0f8ff;border: 1px dotted black;border-radius: 0.25em;box-sizing: border-box;margin-bottom: 0.5em;}#sk-container-id-4 div.sk-estimator:hover {background-color: #d4ebff;}#sk-container-id-4 div.sk-parallel-item::after {content: \"\";width: 100%;border-bottom: 1px solid gray;flex-grow: 1;}#sk-container-id-4 div.sk-label:hover label.sk-toggleable__label {background-color: #d4ebff;}#sk-container-id-4 div.sk-serial::before {content: \"\";position: absolute;border-left: 1px solid gray;box-sizing: border-box;top: 0;bottom: 0;left: 50%;z-index: 0;}#sk-container-id-4 div.sk-serial {display: flex;flex-direction: column;align-items: center;background-color: white;padding-right: 0.2em;padding-left: 0.2em;position: relative;}#sk-container-id-4 div.sk-item {position: relative;z-index: 1;}#sk-container-id-4 div.sk-parallel {display: flex;align-items: stretch;justify-content: center;background-color: white;position: relative;}#sk-container-id-4 div.sk-item::before, #sk-container-id-4 div.sk-parallel-item::before {content: \"\";position: absolute;border-left: 1px solid gray;box-sizing: border-box;top: 0;bottom: 0;left: 50%;z-index: -1;}#sk-container-id-4 div.sk-parallel-item {display: flex;flex-direction: column;z-index: 1;position: relative;background-color: white;}#sk-container-id-4 div.sk-parallel-item:first-child::after {align-self: flex-end;width: 50%;}#sk-container-id-4 div.sk-parallel-item:last-child::after {align-self: flex-start;width: 50%;}#sk-container-id-4 div.sk-parallel-item:only-child::after {width: 0;}#sk-container-id-4 div.sk-dashed-wrapped {border: 1px dashed gray;margin: 0 0.4em 0.5em 0.4em;box-sizing: border-box;padding-bottom: 0.4em;background-color: white;}#sk-container-id-4 div.sk-label label {font-family: monospace;font-weight: bold;display: inline-block;line-height: 1.2em;}#sk-container-id-4 div.sk-label-container {text-align: center;}#sk-container-id-4 div.sk-container {/* jupyter's `normalize.less` sets `[hidden] { display: none; }` but bootstrap.min.css set `[hidden] { display: none !important; }` so we also need the `!important` here to be able to override the default hidden behavior on the sphinx rendered scikit-learn.org. See: https://github.com/scikit-learn/scikit-learn/issues/21755 */display: inline-block !important;position: relative;}#sk-container-id-4 div.sk-text-repr-fallback {display: none;}</style><div id=\"sk-container-id-4\" class=\"sk-top-container\"><div class=\"sk-text-repr-fallback\"><pre>BaggingClassifier(random_state=42)</pre><b>In a Jupyter environment, please rerun this cell to show the HTML representation or trust the notebook. <br />On GitHub, the HTML representation is unable to render, please try loading this page with nbviewer.org.</b></div><div class=\"sk-container\" hidden><div class=\"sk-item\"><div class=\"sk-estimator sk-toggleable\"><input class=\"sk-toggleable__control sk-hidden--visually\" id=\"sk-estimator-id-4\" type=\"checkbox\" checked><label for=\"sk-estimator-id-4\" class=\"sk-toggleable__label sk-toggleable__label-arrow\">BaggingClassifier</label><div class=\"sk-toggleable__content\"><pre>BaggingClassifier(random_state=42)</pre></div></div></div></div></div>"
            ],
            "text/plain": [
              "BaggingClassifier(random_state=42)"
            ]
          },
          "execution_count": 25,
          "metadata": {},
          "output_type": "execute_result"
        }
      ],
      "source": [
        "model4 = BaggingClassifier(n_estimators=10, random_state=42)\n",
        "\n",
        "model4.fit(X_train, y_train)\n"
      ]
    },
    {
      "cell_type": "code",
      "execution_count": null,
      "id": "893fa2df",
      "metadata": {
        "id": "893fa2df"
      },
      "outputs": [],
      "source": [
        "with open('Bagging.pkl', 'wb') as pickle_out:\n",
        "    pickle.dump(model4, pickle_out)"
      ]
    },
    {
      "cell_type": "code",
      "execution_count": null,
      "id": "b4bc9cdb-3453-4005-96f3-17a68f187996",
      "metadata": {
        "colab": {
          "base_uri": "https://localhost:8080/",
          "height": 167
        },
        "id": "b4bc9cdb-3453-4005-96f3-17a68f187996",
        "outputId": "4114dfda-6a55-41c4-eee2-6a46aeabfecd"
      },
      "outputs": [
        {
          "data": {
            "text/html": [
              "<style>#sk-container-id-5 {color: black;}#sk-container-id-5 pre{padding: 0;}#sk-container-id-5 div.sk-toggleable {background-color: white;}#sk-container-id-5 label.sk-toggleable__label {cursor: pointer;display: block;width: 100%;margin-bottom: 0;padding: 0.3em;box-sizing: border-box;text-align: center;}#sk-container-id-5 label.sk-toggleable__label-arrow:before {content: \"▸\";float: left;margin-right: 0.25em;color: #696969;}#sk-container-id-5 label.sk-toggleable__label-arrow:hover:before {color: black;}#sk-container-id-5 div.sk-estimator:hover label.sk-toggleable__label-arrow:before {color: black;}#sk-container-id-5 div.sk-toggleable__content {max-height: 0;max-width: 0;overflow: hidden;text-align: left;background-color: #f0f8ff;}#sk-container-id-5 div.sk-toggleable__content pre {margin: 0.2em;color: black;border-radius: 0.25em;background-color: #f0f8ff;}#sk-container-id-5 input.sk-toggleable__control:checked~div.sk-toggleable__content {max-height: 200px;max-width: 100%;overflow: auto;}#sk-container-id-5 input.sk-toggleable__control:checked~label.sk-toggleable__label-arrow:before {content: \"▾\";}#sk-container-id-5 div.sk-estimator input.sk-toggleable__control:checked~label.sk-toggleable__label {background-color: #d4ebff;}#sk-container-id-5 div.sk-label input.sk-toggleable__control:checked~label.sk-toggleable__label {background-color: #d4ebff;}#sk-container-id-5 input.sk-hidden--visually {border: 0;clip: rect(1px 1px 1px 1px);clip: rect(1px, 1px, 1px, 1px);height: 1px;margin: -1px;overflow: hidden;padding: 0;position: absolute;width: 1px;}#sk-container-id-5 div.sk-estimator {font-family: monospace;background-color: #f0f8ff;border: 1px dotted black;border-radius: 0.25em;box-sizing: border-box;margin-bottom: 0.5em;}#sk-container-id-5 div.sk-estimator:hover {background-color: #d4ebff;}#sk-container-id-5 div.sk-parallel-item::after {content: \"\";width: 100%;border-bottom: 1px solid gray;flex-grow: 1;}#sk-container-id-5 div.sk-label:hover label.sk-toggleable__label {background-color: #d4ebff;}#sk-container-id-5 div.sk-serial::before {content: \"\";position: absolute;border-left: 1px solid gray;box-sizing: border-box;top: 0;bottom: 0;left: 50%;z-index: 0;}#sk-container-id-5 div.sk-serial {display: flex;flex-direction: column;align-items: center;background-color: white;padding-right: 0.2em;padding-left: 0.2em;position: relative;}#sk-container-id-5 div.sk-item {position: relative;z-index: 1;}#sk-container-id-5 div.sk-parallel {display: flex;align-items: stretch;justify-content: center;background-color: white;position: relative;}#sk-container-id-5 div.sk-item::before, #sk-container-id-5 div.sk-parallel-item::before {content: \"\";position: absolute;border-left: 1px solid gray;box-sizing: border-box;top: 0;bottom: 0;left: 50%;z-index: -1;}#sk-container-id-5 div.sk-parallel-item {display: flex;flex-direction: column;z-index: 1;position: relative;background-color: white;}#sk-container-id-5 div.sk-parallel-item:first-child::after {align-self: flex-end;width: 50%;}#sk-container-id-5 div.sk-parallel-item:last-child::after {align-self: flex-start;width: 50%;}#sk-container-id-5 div.sk-parallel-item:only-child::after {width: 0;}#sk-container-id-5 div.sk-dashed-wrapped {border: 1px dashed gray;margin: 0 0.4em 0.5em 0.4em;box-sizing: border-box;padding-bottom: 0.4em;background-color: white;}#sk-container-id-5 div.sk-label label {font-family: monospace;font-weight: bold;display: inline-block;line-height: 1.2em;}#sk-container-id-5 div.sk-label-container {text-align: center;}#sk-container-id-5 div.sk-container {/* jupyter's `normalize.less` sets `[hidden] { display: none; }` but bootstrap.min.css set `[hidden] { display: none !important; }` so we also need the `!important` here to be able to override the default hidden behavior on the sphinx rendered scikit-learn.org. See: https://github.com/scikit-learn/scikit-learn/issues/21755 */display: inline-block !important;position: relative;}#sk-container-id-5 div.sk-text-repr-fallback {display: none;}</style><div id=\"sk-container-id-5\" class=\"sk-top-container\"><div class=\"sk-text-repr-fallback\"><pre>StackingClassifier(estimators=[(&#x27;rf&#x27;, RandomForestClassifier()),\n",
              "                               (&#x27;KNN&#x27;, KNeighborsClassifier()),\n",
              "                               (&#x27;SVM&#x27;, SVC())],\n",
              "                   final_estimator=LogisticRegression(random_state=42))</pre><b>In a Jupyter environment, please rerun this cell to show the HTML representation or trust the notebook. <br />On GitHub, the HTML representation is unable to render, please try loading this page with nbviewer.org.</b></div><div class=\"sk-container\" hidden><div class=\"sk-item sk-dashed-wrapped\"><div class=\"sk-label-container\"><div class=\"sk-label sk-toggleable\"><input class=\"sk-toggleable__control sk-hidden--visually\" id=\"sk-estimator-id-5\" type=\"checkbox\" ><label for=\"sk-estimator-id-5\" class=\"sk-toggleable__label sk-toggleable__label-arrow\">StackingClassifier</label><div class=\"sk-toggleable__content\"><pre>StackingClassifier(estimators=[(&#x27;rf&#x27;, RandomForestClassifier()),\n",
              "                               (&#x27;KNN&#x27;, KNeighborsClassifier()),\n",
              "                               (&#x27;SVM&#x27;, SVC())],\n",
              "                   final_estimator=LogisticRegression(random_state=42))</pre></div></div></div><div class=\"sk-serial\"><div class=\"sk-item\"><div class=\"sk-parallel\"><div class=\"sk-parallel-item\"><div class=\"sk-item\"><div class=\"sk-label-container\"><div class=\"sk-label sk-toggleable\"><label>rf</label></div></div><div class=\"sk-serial\"><div class=\"sk-item\"><div class=\"sk-estimator sk-toggleable\"><input class=\"sk-toggleable__control sk-hidden--visually\" id=\"sk-estimator-id-6\" type=\"checkbox\" ><label for=\"sk-estimator-id-6\" class=\"sk-toggleable__label sk-toggleable__label-arrow\">RandomForestClassifier</label><div class=\"sk-toggleable__content\"><pre>RandomForestClassifier()</pre></div></div></div></div></div></div><div class=\"sk-parallel-item\"><div class=\"sk-item\"><div class=\"sk-label-container\"><div class=\"sk-label sk-toggleable\"><label>KNN</label></div></div><div class=\"sk-serial\"><div class=\"sk-item\"><div class=\"sk-estimator sk-toggleable\"><input class=\"sk-toggleable__control sk-hidden--visually\" id=\"sk-estimator-id-7\" type=\"checkbox\" ><label for=\"sk-estimator-id-7\" class=\"sk-toggleable__label sk-toggleable__label-arrow\">KNeighborsClassifier</label><div class=\"sk-toggleable__content\"><pre>KNeighborsClassifier()</pre></div></div></div></div></div></div><div class=\"sk-parallel-item\"><div class=\"sk-item\"><div class=\"sk-label-container\"><div class=\"sk-label sk-toggleable\"><label>SVM</label></div></div><div class=\"sk-serial\"><div class=\"sk-item\"><div class=\"sk-estimator sk-toggleable\"><input class=\"sk-toggleable__control sk-hidden--visually\" id=\"sk-estimator-id-8\" type=\"checkbox\" ><label for=\"sk-estimator-id-8\" class=\"sk-toggleable__label sk-toggleable__label-arrow\">SVC</label><div class=\"sk-toggleable__content\"><pre>SVC()</pre></div></div></div></div></div></div></div></div><div class=\"sk-item\"><div class=\"sk-parallel\"><div class=\"sk-parallel-item\"><div class=\"sk-item\"><div class=\"sk-label-container\"><div class=\"sk-label sk-toggleable\"><label>final_estimator</label></div></div><div class=\"sk-serial\"><div class=\"sk-item\"><div class=\"sk-estimator sk-toggleable\"><input class=\"sk-toggleable__control sk-hidden--visually\" id=\"sk-estimator-id-9\" type=\"checkbox\" ><label for=\"sk-estimator-id-9\" class=\"sk-toggleable__label sk-toggleable__label-arrow\">LogisticRegression</label><div class=\"sk-toggleable__content\"><pre>LogisticRegression(random_state=42)</pre></div></div></div></div></div></div></div></div></div></div></div></div>"
            ],
            "text/plain": [
              "StackingClassifier(estimators=[('rf', RandomForestClassifier()),\n",
              "                               ('KNN', KNeighborsClassifier()),\n",
              "                               ('SVM', SVC())],\n",
              "                   final_estimator=LogisticRegression(random_state=42))"
            ]
          },
          "execution_count": 27,
          "metadata": {},
          "output_type": "execute_result"
        }
      ],
      "source": [
        "base_classifiers = [\n",
        "    ('rf', RandomForestClassifier()),\n",
        "    ('KNN', KNeighborsClassifier()),\n",
        "    ('SVM',svm.SVC())\n",
        "]\n",
        "meta_classifier = LogisticRegression(random_state=42)\n",
        "\n",
        "model5 = StackingClassifier(estimators=base_classifiers, final_estimator=meta_classifier)\n",
        "model5.fit(X_train, y_train)\n"
      ]
    },
    {
      "cell_type": "code",
      "execution_count": null,
      "id": "7029f857",
      "metadata": {
        "id": "7029f857"
      },
      "outputs": [],
      "source": [
        "with open('Stacking.pkl', 'wb') as pickle_out:\n",
        "    pickle.dump(model5, pickle_out)"
      ]
    },
    {
      "cell_type": "code",
      "execution_count": null,
      "id": "XFMi6PlYpMsB",
      "metadata": {
        "id": "XFMi6PlYpMsB"
      },
      "outputs": [],
      "source": [
        "X_train = X_train.astype('float32')\n",
        "y_train = y_train.astype('float32')\n",
        "X_test = X_test.astype('float32')\n",
        "y_test = y_test.astype('float32')"
      ]
    },
    {
      "cell_type": "code",
      "execution_count": null,
      "id": "1c7a7870-ee19-4d50-a5d7-923ec04ec670",
      "metadata": {
        "colab": {
          "base_uri": "https://localhost:8080/"
        },
        "id": "1c7a7870-ee19-4d50-a5d7-923ec04ec670",
        "outputId": "02d797e2-9988-46c4-b1e9-a65380d3fac7"
      },
      "outputs": [
        {
          "name": "stdout",
          "output_type": "stream",
          "text": [
            "WARNING:tensorflow:From c:\\Users\\Dmitry\\AppData\\Local\\anaconda3\\Lib\\site-packages\\keras\\src\\backend.py:873: The name tf.get_default_graph is deprecated. Please use tf.compat.v1.get_default_graph instead.\n",
            "\n",
            "WARNING:tensorflow:From c:\\Users\\Dmitry\\AppData\\Local\\anaconda3\\Lib\\site-packages\\keras\\src\\optimizers\\__init__.py:309: The name tf.train.Optimizer is deprecated. Please use tf.compat.v1.train.Optimizer instead.\n",
            "\n",
            "Epoch 1/50\n",
            "WARNING:tensorflow:From c:\\Users\\Dmitry\\AppData\\Local\\anaconda3\\Lib\\site-packages\\keras\\src\\utils\\tf_utils.py:492: The name tf.ragged.RaggedTensorValue is deprecated. Please use tf.compat.v1.ragged.RaggedTensorValue instead.\n",
            "\n",
            "WARNING:tensorflow:From c:\\Users\\Dmitry\\AppData\\Local\\anaconda3\\Lib\\site-packages\\keras\\src\\engine\\base_layer_utils.py:384: The name tf.executing_eagerly_outside_functions is deprecated. Please use tf.compat.v1.executing_eagerly_outside_functions instead.\n",
            "\n",
            "125/125 [==============================] - 2s 6ms/step - loss: 0.6723 - accuracy: 0.8593 - val_loss: 0.4422 - val_accuracy: 0.9150\n",
            "Epoch 2/50\n",
            "125/125 [==============================] - 0s 3ms/step - loss: 0.3041 - accuracy: 0.9197 - val_loss: 0.2920 - val_accuracy: 0.9200\n",
            "Epoch 3/50\n",
            "125/125 [==============================] - 0s 4ms/step - loss: 0.2665 - accuracy: 0.9245 - val_loss: 0.2208 - val_accuracy: 0.9230\n",
            "Epoch 4/50\n",
            "125/125 [==============================] - 0s 3ms/step - loss: 0.2174 - accuracy: 0.9290 - val_loss: 0.3173 - val_accuracy: 0.9210\n",
            "Epoch 5/50\n",
            "125/125 [==============================] - 0s 3ms/step - loss: 0.1957 - accuracy: 0.9285 - val_loss: 0.2147 - val_accuracy: 0.9290\n",
            "Epoch 6/50\n",
            "125/125 [==============================] - 0s 3ms/step - loss: 0.1822 - accuracy: 0.9340 - val_loss: 0.1909 - val_accuracy: 0.9260\n",
            "Epoch 7/50\n",
            "125/125 [==============================] - 0s 3ms/step - loss: 0.1739 - accuracy: 0.9385 - val_loss: 0.2058 - val_accuracy: 0.9290\n",
            "Epoch 8/50\n",
            "125/125 [==============================] - 0s 3ms/step - loss: 0.1553 - accuracy: 0.9435 - val_loss: 0.1858 - val_accuracy: 0.9360\n",
            "Epoch 9/50\n",
            "125/125 [==============================] - 0s 3ms/step - loss: 0.1546 - accuracy: 0.9435 - val_loss: 0.1887 - val_accuracy: 0.9290\n",
            "Epoch 10/50\n",
            "125/125 [==============================] - 0s 3ms/step - loss: 0.1430 - accuracy: 0.9470 - val_loss: 0.1504 - val_accuracy: 0.9400\n",
            "Epoch 11/50\n",
            "125/125 [==============================] - 0s 4ms/step - loss: 0.1376 - accuracy: 0.9490 - val_loss: 0.1683 - val_accuracy: 0.9490\n",
            "Epoch 12/50\n",
            "125/125 [==============================] - 0s 4ms/step - loss: 0.1421 - accuracy: 0.9515 - val_loss: 0.1467 - val_accuracy: 0.9530\n",
            "Epoch 13/50\n",
            "125/125 [==============================] - 0s 3ms/step - loss: 0.1236 - accuracy: 0.9563 - val_loss: 0.1287 - val_accuracy: 0.9560\n",
            "Epoch 14/50\n",
            "125/125 [==============================] - 0s 4ms/step - loss: 0.1119 - accuracy: 0.9605 - val_loss: 0.1293 - val_accuracy: 0.9460\n",
            "Epoch 15/50\n",
            "125/125 [==============================] - 0s 3ms/step - loss: 0.1128 - accuracy: 0.9595 - val_loss: 0.1346 - val_accuracy: 0.9640\n",
            "Epoch 16/50\n",
            "125/125 [==============================] - 0s 4ms/step - loss: 0.1416 - accuracy: 0.9550 - val_loss: 0.1318 - val_accuracy: 0.9530\n",
            "Epoch 17/50\n",
            "125/125 [==============================] - 0s 4ms/step - loss: 0.0942 - accuracy: 0.9660 - val_loss: 0.1295 - val_accuracy: 0.9560\n",
            "Epoch 18/50\n",
            "125/125 [==============================] - 0s 3ms/step - loss: 0.0974 - accuracy: 0.9700 - val_loss: 0.1332 - val_accuracy: 0.9700\n",
            "Epoch 19/50\n",
            "125/125 [==============================] - 0s 3ms/step - loss: 0.0954 - accuracy: 0.9690 - val_loss: 0.1208 - val_accuracy: 0.9580\n",
            "Epoch 20/50\n",
            "125/125 [==============================] - 0s 3ms/step - loss: 0.0858 - accuracy: 0.9705 - val_loss: 0.1276 - val_accuracy: 0.9620\n",
            "Epoch 21/50\n",
            "125/125 [==============================] - 0s 3ms/step - loss: 0.1012 - accuracy: 0.9680 - val_loss: 0.1034 - val_accuracy: 0.9600\n",
            "Epoch 22/50\n",
            "125/125 [==============================] - 0s 3ms/step - loss: 0.0842 - accuracy: 0.9720 - val_loss: 0.1285 - val_accuracy: 0.9580\n",
            "Epoch 23/50\n",
            "125/125 [==============================] - 0s 4ms/step - loss: 0.1049 - accuracy: 0.9707 - val_loss: 0.2212 - val_accuracy: 0.9450\n",
            "Epoch 24/50\n",
            "125/125 [==============================] - 0s 4ms/step - loss: 0.0912 - accuracy: 0.9705 - val_loss: 0.2011 - val_accuracy: 0.9550\n",
            "Epoch 25/50\n",
            "125/125 [==============================] - 0s 3ms/step - loss: 0.0704 - accuracy: 0.9793 - val_loss: 0.1468 - val_accuracy: 0.9610\n",
            "Epoch 26/50\n",
            "125/125 [==============================] - 0s 3ms/step - loss: 0.0899 - accuracy: 0.9732 - val_loss: 0.1024 - val_accuracy: 0.9670\n",
            "Epoch 27/50\n",
            "125/125 [==============================] - 0s 3ms/step - loss: 0.0815 - accuracy: 0.9718 - val_loss: 0.2052 - val_accuracy: 0.9540\n",
            "Epoch 28/50\n",
            "125/125 [==============================] - 0s 3ms/step - loss: 0.0701 - accuracy: 0.9745 - val_loss: 0.1665 - val_accuracy: 0.9530\n",
            "Epoch 29/50\n",
            "125/125 [==============================] - 0s 4ms/step - loss: 0.0970 - accuracy: 0.9745 - val_loss: 0.0954 - val_accuracy: 0.9670\n",
            "Epoch 30/50\n",
            "125/125 [==============================] - 0s 3ms/step - loss: 0.0715 - accuracy: 0.9778 - val_loss: 0.1029 - val_accuracy: 0.9690\n",
            "Epoch 31/50\n",
            "125/125 [==============================] - 0s 3ms/step - loss: 0.0764 - accuracy: 0.9783 - val_loss: 0.1123 - val_accuracy: 0.9740\n",
            "Epoch 32/50\n",
            "125/125 [==============================] - 0s 4ms/step - loss: 0.0800 - accuracy: 0.9725 - val_loss: 0.0932 - val_accuracy: 0.9610\n",
            "Epoch 33/50\n",
            "125/125 [==============================] - 0s 4ms/step - loss: 0.0675 - accuracy: 0.9762 - val_loss: 0.1221 - val_accuracy: 0.9720\n",
            "Epoch 34/50\n",
            "125/125 [==============================] - 0s 4ms/step - loss: 0.0829 - accuracy: 0.9762 - val_loss: 0.2206 - val_accuracy: 0.9550\n",
            "Epoch 35/50\n",
            "125/125 [==============================] - 0s 3ms/step - loss: 0.0654 - accuracy: 0.9818 - val_loss: 0.0920 - val_accuracy: 0.9740\n",
            "Epoch 36/50\n",
            "125/125 [==============================] - 0s 3ms/step - loss: 0.0657 - accuracy: 0.9800 - val_loss: 0.0812 - val_accuracy: 0.9730\n",
            "Epoch 37/50\n",
            "125/125 [==============================] - 0s 4ms/step - loss: 0.0669 - accuracy: 0.9795 - val_loss: 0.1792 - val_accuracy: 0.9610\n",
            "Epoch 38/50\n",
            "125/125 [==============================] - 0s 3ms/step - loss: 0.0595 - accuracy: 0.9808 - val_loss: 0.1152 - val_accuracy: 0.9660\n",
            "Epoch 39/50\n",
            "125/125 [==============================] - 0s 3ms/step - loss: 0.0712 - accuracy: 0.9778 - val_loss: 0.0755 - val_accuracy: 0.9750\n",
            "Epoch 40/50\n",
            "125/125 [==============================] - 0s 4ms/step - loss: 0.0543 - accuracy: 0.9815 - val_loss: 0.1447 - val_accuracy: 0.9680\n",
            "Epoch 41/50\n",
            "125/125 [==============================] - 0s 3ms/step - loss: 0.0573 - accuracy: 0.9818 - val_loss: 0.0726 - val_accuracy: 0.9700\n",
            "Epoch 42/50\n",
            "125/125 [==============================] - 0s 3ms/step - loss: 0.0782 - accuracy: 0.9762 - val_loss: 0.1020 - val_accuracy: 0.9570\n",
            "Epoch 43/50\n",
            "125/125 [==============================] - 0s 3ms/step - loss: 0.0620 - accuracy: 0.9783 - val_loss: 0.1333 - val_accuracy: 0.9690\n",
            "Epoch 44/50\n",
            "125/125 [==============================] - 0s 3ms/step - loss: 0.0671 - accuracy: 0.9790 - val_loss: 0.1115 - val_accuracy: 0.9610\n",
            "Epoch 45/50\n",
            "125/125 [==============================] - 0s 3ms/step - loss: 0.0652 - accuracy: 0.9810 - val_loss: 0.1095 - val_accuracy: 0.9750\n",
            "Epoch 46/50\n",
            "125/125 [==============================] - 0s 3ms/step - loss: 0.0643 - accuracy: 0.9808 - val_loss: 0.0731 - val_accuracy: 0.9730\n",
            "Epoch 47/50\n",
            "125/125 [==============================] - 0s 4ms/step - loss: 0.0553 - accuracy: 0.9820 - val_loss: 0.0725 - val_accuracy: 0.9730\n",
            "Epoch 48/50\n",
            "125/125 [==============================] - 0s 4ms/step - loss: 0.0744 - accuracy: 0.9772 - val_loss: 0.0810 - val_accuracy: 0.9710\n",
            "Epoch 49/50\n",
            "125/125 [==============================] - 0s 4ms/step - loss: 0.0548 - accuracy: 0.9818 - val_loss: 0.1382 - val_accuracy: 0.9590\n",
            "Epoch 50/50\n",
            "125/125 [==============================] - 0s 4ms/step - loss: 0.0606 - accuracy: 0.9800 - val_loss: 0.0650 - val_accuracy: 0.9710\n"
          ]
        },
        {
          "data": {
            "text/plain": [
              "<keras.src.callbacks.History at 0x21ee97d7810>"
            ]
          },
          "execution_count": 30,
          "metadata": {},
          "output_type": "execute_result"
        }
      ],
      "source": [
        "model6 = keras.Sequential([\n",
        "    keras.layers.Dense(64, activation='relu', input_shape=(X_train.shape[1],)),\n",
        "    keras.layers.Dense(1, activation='sigmoid')\n",
        "\n",
        "])\n",
        "\n",
        "model6.compile(optimizer='adam', loss='binary_crossentropy', metrics=['accuracy'])\n",
        "\n",
        "model6.fit(X_train, y_train, epochs=50, batch_size=32, validation_data=(X_test, y_test))\n"
      ]
    },
    {
      "cell_type": "code",
      "execution_count": null,
      "id": "b8d322a3-931c-4a6a-a55c-9c5b4ecb014a",
      "metadata": {
        "colab": {
          "base_uri": "https://localhost:8080/"
        },
        "id": "b8d322a3-931c-4a6a-a55c-9c5b4ecb014a",
        "outputId": "15da2300-5680-41c8-9132-f95f3e1a64b6"
      },
      "outputs": [
        {
          "name": "stderr",
          "output_type": "stream",
          "text": [
            "c:\\Users\\Dmitry\\AppData\\Local\\anaconda3\\Lib\\site-packages\\keras\\src\\engine\\training.py:3103: UserWarning: You are saving your model as an HDF5 file via `model.save()`. This file format is considered legacy. We recommend using instead the native Keras format, e.g. `model.save('my_model.keras')`.\n",
            "  saving_api.save_model(\n"
          ]
        }
      ],
      "source": [
        "model6.save('Neural.h5')\n"
      ]
    }
  ],
  "metadata": {
    "colab": {
      "provenance": [],
      "toc_visible": true
    },
    "kernelspec": {
      "display_name": "Python 3 (ipykernel)",
      "language": "python",
      "name": "python3"
    },
    "language_info": {
      "codemirror_mode": {
        "name": "ipython",
        "version": 3
      },
      "file_extension": ".py",
      "mimetype": "text/x-python",
      "name": "python",
      "nbconvert_exporter": "python",
      "pygments_lexer": "ipython3",
      "version": "3.11.7"
    }
  },
  "nbformat": 4,
  "nbformat_minor": 5
}
